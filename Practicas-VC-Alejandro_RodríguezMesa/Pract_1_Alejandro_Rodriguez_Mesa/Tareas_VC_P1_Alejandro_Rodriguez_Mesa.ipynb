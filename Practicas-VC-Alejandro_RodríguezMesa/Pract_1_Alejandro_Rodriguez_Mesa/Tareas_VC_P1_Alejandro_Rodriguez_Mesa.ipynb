{
 "cells": [
  {
   "cell_type": "markdown",
   "metadata": {},
   "source": [
    "Alejandro Rodríguez Mesa, Visión por Computador"
   ]
  },
  {
   "cell_type": "markdown",
   "metadata": {},
   "source": [
    "Colección de tareas de la práctica 1."
   ]
  },
  {
   "cell_type": "markdown",
   "metadata": {},
   "source": [
    "Paquetes necesarios"
   ]
  },
  {
   "cell_type": "code",
   "execution_count": 1,
   "metadata": {},
   "outputs": [],
   "source": [
    "import cv2 as cv\n",
    "import numpy as np\n",
    "import matplotlib.pyplot as plt"
   ]
  },
  {
   "cell_type": "markdown",
   "metadata": {},
   "source": [
    "Inicializaciones"
   ]
  },
  {
   "cell_type": "code",
   "execution_count": 2,
   "metadata": {},
   "outputs": [],
   "source": [
    "#Dimensiones de la imagen a crear\n",
    "ancho = 600\n",
    "alto = 600"
   ]
  },
  {
   "cell_type": "markdown",
   "metadata": {},
   "source": [
    "- ## Crear una imagen con la textura de un tablero de ajedrez"
   ]
  },
  {
   "cell_type": "markdown",
   "metadata": {},
   "source": [
    "Tablero de ajedrez 600x600"
   ]
  },
  {
   "cell_type": "code",
   "execution_count": 8,
   "metadata": {},
   "outputs": [
    {
     "data": {
      "image/png": "[encoded data removed]",
      "text/plain": [
       "<Figure size 640x480 with 1 Axes>"
      ]
     },
     "metadata": {},
     "output_type": "display_data"
    }
   ],
   "source": [
    "gris_img = np.zeros((alto,ancho,1), dtype = np.uint8)\n",
    "\n",
    "#Bucle anidado para pintar de blanco las celdas que corresponden. \n",
    "for i in range(9):\n",
    "    for j in range(9):\n",
    "        if (i % 2 == 1):\n",
    "            if (j%2 == 1):\n",
    "                gris_img[int((j-1)*alto/8):int(j*alto/8), int((i-1)*ancho/8):int(i*ancho/8), 0] = 255  \n",
    "            else:\n",
    "                gris_img[int((j-1)*alto/8):int(j*alto/8), int((i)*ancho/8):int((i+1)*ancho/8), 0] = 255\n",
    "\n",
    "#Muestra la imagen con matplotlib\n",
    "#Al ser un plano, recordar especificar que el mapa de color usado es de grises\n",
    "plt.imshow(gris_img[:, :, 0], cmap='gray') #Te animo a probar a eliminar la especificación del mapa de color\n",
    "plt.axis('off')  # Ocultar ejes\n",
    "plt.show()"
   ]
  },
  {
   "cell_type": "markdown",
   "metadata": {},
   "source": [
    "Muestra la imagen del tablero de ajedrez con imshow (OpenCV) en ventana independiente"
   ]
  },
  {
   "cell_type": "code",
   "execution_count": 10,
   "metadata": {},
   "outputs": [],
   "source": [
    "#Muestra la imagen del tablero con las utilidades de OpenCV en una ventana independiente\n",
    "cv.imshow('Chessboard', gris_img)\n",
    "\n",
    "cv.waitKey(-1) # Se detiene hasta pulsar tecla (>0 milisegundos)\n",
    "cv.destroyAllWindows() # Destruye todas las ventanas"
   ]
  },
  {
   "cell_type": "markdown",
   "metadata": {},
   "source": [
    "- # Crear una imagen estilo Mondrian"
   ]
  },
  {
   "cell_type": "markdown",
   "metadata": {},
   "source": [
    "Creación de imagen estilo mondrian 800x800"
   ]
  },
  {
   "cell_type": "code",
   "execution_count": 11,
   "metadata": {},
   "outputs": [
    {
     "data": {
      "image/png": "[encoded data removed]",
      "text/plain": [
       "<Figure size 640x480 with 1 Axes>"
      ]
     },
     "metadata": {},
     "output_type": "display_data"
    }
   ],
   "source": [
    "\n",
    "class Rectangle:\n",
    "    def __init__(self, width, height, rgb, offset = 0):\n",
    "        self.width = width\n",
    "        self.height = height\n",
    "        self.rgb = rgb\n",
    "        self.offset = offset\n",
    "\n",
    "    def apply(self, image, point):\n",
    "        image[point[1]+self.offset:point[1] + self.height-self.offset , point[0]+self.offset:point[0]+self.width-self.offset] = self.rgb\n",
    "\n",
    "    \n",
    "color_img = np.zeros((800, 800,3), dtype = np.uint8)\n",
    "background = Rectangle(800, 800, (0, 0, 0))\n",
    "background.apply(color_img, (0, 0))\n",
    "\n",
    "rectangles = [  \n",
    "    Rectangle(400, 100, (34,80,149), offset=10),\n",
    "    Rectangle(200, 100, (250,201,1), offset=10),\n",
    "    Rectangle(200, 200, (221,1,0), offset=10),\n",
    "    \n",
    "    Rectangle(100, 100, (255,255,255), offset=10),\n",
    "    Rectangle(200, 300, (255,255,255), offset=10),\n",
    "    Rectangle(200, 300, (221,1,0), offset=10),\n",
    "    \n",
    "\n",
    "    Rectangle(200, 200, (250,201,1), offset=10),\n",
    "    Rectangle(200, 200, (255,255,255), offset=10),\n",
    "    Rectangle(500, 100, (250,201,1), offset=10),\n",
    "\n",
    "    Rectangle(400, 300, (34,80,149), offset=10),\n",
    "    Rectangle(200, 300, (255,255,255), offset=10),\n",
    "    Rectangle(200, 100, (221,1,0), offset=10),\n",
    "    Rectangle(200, 300, (34,80,149), offset=10),\n",
    "    Rectangle(200, 100, (221,1,0), offset=10)\n",
    "]\n",
    "\n",
    "positions = [(0, 0),(0, 400), (0, 500), (0, 700), (0,100), (200, 100), (400, 0),(400, 200), (100, 700), (200, 400), (600, 400), (600, 700),(600, 0),(600, 300)]\n",
    "\n",
    "for x in range(0, len(positions)):\n",
    "    rectangles[x].apply(color_img, positions[x])\n",
    "\n",
    "plt.imshow(color_img)\n",
    "plt.show()"
   ]
  },
  {
   "cell_type": "markdown",
   "metadata": {},
   "source": [
    "- # Crear una imagen estilo Mondrian con OpenCV"
   ]
  },
  {
   "cell_type": "markdown",
   "metadata": {},
   "source": [
    "Creación de la imagen y de las lineas con OpenCV "
   ]
  },
  {
   "cell_type": "code",
   "execution_count": 12,
   "metadata": {},
   "outputs": [
    {
     "name": "stdout",
     "output_type": "stream",
     "text": [
      "(600, 600, 3)\n"
     ]
    },
    {
     "data": {
      "image/png": "[encoded data removed]",
      "text/plain": [
       "<Figure size 640x480 with 1 Axes>"
      ]
     },
     "metadata": {},
     "output_type": "display_data"
    }
   ],
   "source": [
    "#Crea una imagen con tres planos\n",
    "color_img = np.zeros((alto,ancho,3), dtype = np.uint8)\n",
    "\n",
    "color_img[:,:,:] = 255 \n",
    "\n",
    "\n",
    "# Lineas Horizontales\n",
    "cv.line(color_img, (1, 2), (int(ancho/2), 2), (0, 0, 0), 5)\n",
    "cv.line(color_img, (int(ancho/2), 20), (ancho, 20), (0, 0, 0), 5)\n",
    "cv.line(color_img, (100, 80), (ancho, 80), (0, 0, 0), 5)\n",
    "cv.line(color_img, (100, 120), (320, 120), (0, 0, 0), 5)\n",
    "cv.line(color_img, (480, 160), (560, 160), (0, 0, 0), 5)\n",
    "cv.line(color_img, (560, 200), (ancho, 200), (0, 0, 0), 5)\n",
    "cv.line(color_img, (1, 300), (ancho, 300), (0, 0, 0), 5)\n",
    "cv.line(color_img, (1, 440), (int(ancho/2), 440), (0, 0, 0), 5)\n",
    "cv.line(color_img, (int(ancho/2), 500), (ancho, 500), (0, 0, 0), 5)\n",
    "cv.line(color_img, (120, 560), (int(ancho/2), 560), (0, 0, 0), 5)\n",
    "cv.line(color_img, (400, 580), (ancho, 580), (0, 0, 0), 5)\n",
    "\n",
    "#Lineas Verticales\n",
    "cv.line(color_img, (100, 1), (100, 300), (0, 0, 0), 5)\n",
    "cv.line(color_img, (120, 440), (120, ancho), (0, 0, 0), 5)\n",
    "cv.line(color_img, (150, 300), (150, 440), (0, 0, 0), 5)\n",
    "cv.line(color_img, (300, 1), (300, 80), (0, 0, 0), 5)\n",
    "cv.line(color_img, (300, 300), (300, ancho), (0, 0, 0), 5)\n",
    "cv.line(color_img, (320, 80), (320, 300), (0, 0, 0), 5)\n",
    "cv.line(color_img, (400, 300), (400, ancho), (0, 0, 0), 5)\n",
    "cv.line(color_img, (480, 80), (480, 300), (0, 0, 0), 5)\n",
    "cv.line(color_img, (530, 300), (530, 500), (0, 0, 0), 5)\n",
    "cv.line(color_img, (560, 80), (560, 300), (0, 0, 0), 5)\n",
    "cv.line(color_img, (570, 1), (570, 20), (0, 0, 0), 5)\n",
    "cv.line(color_img, (580, 20), (580, 80), (0, 0, 0), 5)\n",
    "cv.line(color_img, (580, 80), (580, 200), (0, 0, 0), 5)\n",
    "cv.line(color_img, (590, 200), (590, 300), (0, 0, 0), 5)\n",
    "#Dimensiones\n",
    "print(color_img.shape)\n",
    "#Visualiza con matplotlib (sin especificar el mapa de color gris)\n",
    "plt.imshow(color_img) # Muestra las lineas creadas que posteriormente serán coloreadas\n",
    "plt.show()\n"
   ]
  },
  {
   "cell_type": "markdown",
   "metadata": {},
   "source": [
    "Coloración de los rectángulos y Muestra de la imagen con Matplotlib"
   ]
  },
  {
   "cell_type": "code",
   "execution_count": 15,
   "metadata": {},
   "outputs": [
    {
     "data": {
      "image/png": "[encoded data removed]",
      "text/plain": [
       "<Figure size 640x480 with 1 Axes>"
      ]
     },
     "metadata": {},
     "output_type": "display_data"
    }
   ],
   "source": [
    "#Se colorean los rectángulos en función de las líneas creadas y el ancho y altura de la imagen.\n",
    "#Azul\n",
    "cv.floodFill(color_img, None, (50, 50), (34,80,149))  \n",
    "cv.floodFill(color_img, None, (61, 520), (34,80,149))  \n",
    "cv.floodFill(color_img, None, (240, 385), (34,80,149))  \n",
    "cv.floodFill(color_img, None, (420, 60), (34,80,149))  \n",
    "cv.floodFill(color_img, None, (458, 550), (34,80,149))  \n",
    "cv.floodFill(color_img, None, (510, 238), (34,80,149)) \n",
    "cv.floodFill(color_img, None, (595, 238), (34,80,149)) \n",
    "\n",
    "#Rojo\n",
    "cv.floodFill(color_img, None, (200, 200), (221,1,0))  \n",
    "cv.floodFill(color_img, None, (333, 550), (221,1,0))  \n",
    "cv.floodFill(color_img, None, (400, 5), (221,1,0))\n",
    "cv.floodFill(color_img, None, (540, 380), (221,1,0))\n",
    "cv.floodFill(color_img, None, (568, 148), (221,1,0))\n",
    "\n",
    "#Amarillo\n",
    "cv.floodFill(color_img, None, (193, 41), (250,201,1))  \n",
    "cv.floodFill(color_img, None, (200, 500), (250,201,1)) \n",
    "cv.floodFill(color_img, None, (400, 200), (250,201,1)) \n",
    "cv.floodFill(color_img, None, (460, 360), (250,201,1)) \n",
    "cv.floodFill(color_img, None, (537, 590), (250,201,1))  \n",
    "cv.floodFill(color_img, None, (580, 5), (250,201,1)) \n",
    "cv.floodFill(color_img, None, (595, 150), (250,201,1)) \n",
    "\n",
    "#Visualiza con matplotlib (sin especificar el mapa de color gris)\n",
    "plt.imshow(color_img) \n",
    "plt.axis('off')  # Ocultar ejes\n",
    "plt.show()\n"
   ]
  },
  {
   "cell_type": "markdown",
   "metadata": {},
   "source": [
    "Muestra la imagen de estilo Mondrian con imshow (OpenCV) en ventana independiente"
   ]
  },
  {
   "cell_type": "code",
   "execution_count": 16,
   "metadata": {},
   "outputs": [],
   "source": [
    "#Muestra la imagen del tablero con las utilidades de OpenCV en una ventana independiente\n",
    "color_img_bgr = cv.cvtColor(color_img, cv.COLOR_RGB2BGR) #Convierte a BGR \n",
    "cv.imshow('Mondrian', color_img_bgr)\n",
    "\n",
    "cv.waitKey(-1) # Se detiene hasta pulsar tecla (>0 milisegundos)\n",
    "cv.destroyAllWindows() # Destruye todas las ventanas"
   ]
  },
  {
   "cell_type": "markdown",
   "metadata": {},
   "source": [
    "- # Modifica de forma libre los valores de un plano de la imagen"
   ]
  },
  {
   "cell_type": "markdown",
   "metadata": {},
   "source": [
    "Separa los tres planos de la imagen captada por la webcam y muestra en horizontal y hace una modificacion\n"
   ]
  },
  {
   "cell_type": "code",
   "execution_count": 17,
   "metadata": {},
   "outputs": [],
   "source": [
    "vid = cv.VideoCapture(0)\n",
    "\n",
    "while True:\n",
    "    # Captura fotograma a fotograma\n",
    "    ret, frame = vid.read()\n",
    "\n",
    "    if ret:\n",
    "        # Configuración de texto\n",
    "        font = cv.FONT_HERSHEY_SIMPLEX\n",
    "        fontScale = 1\n",
    "        color = (255, 255, 255)\n",
    "        thickness = 3\n",
    "\n",
    "        # Separar los canales\n",
    "        b_frame = frame.copy()\n",
    "        g_frame = frame.copy()\n",
    "        r_frame = frame.copy()\n",
    "\n",
    "        # Obtener dimensiones de la imagen\n",
    "        height, weight, _ = frame.shape\n",
    "\n",
    "        # Aplicar modificaciones a los canales\n",
    "        b = 255 - b_frame[:, :, 0]  # Inversión de canal\n",
    "        g = cv.GaussianBlur(g_frame[:, :, 1], (15, 15), 0)  # Desenfoque Gaussiano\n",
    "        r = r_frame[:, :, 2]  # Canal sin modificar\n",
    "\n",
    "        # Definir los textos para cada canal\n",
    "        texts = {\n",
    "            \"b_frame\": \"Canal Inverso\",\n",
    "            \"g_frame\": \"Canal Desenfoque\",\n",
    "            \"r_frame\": \"Canal Normal\"\n",
    "        }\n",
    "\n",
    "        # Agregar texto a cada canal después de aplicar las modificaciones para que no se modifique con la imagen\n",
    "        for frame_name, text in texts.items():\n",
    "            # Tamaño del texto\n",
    "            textsize = cv.getTextSize(text, font, fontScale=fontScale, thickness=thickness)[0]\n",
    "\n",
    "            # Calcular la posición en la esquina inferior izquierda (dejando un pequeño margen)\n",
    "            textX = (weight - textsize[0] - 10)  # Se deja espacio para el margen y el texto\n",
    "            textY = height - 10  # Se deja un margen\n",
    "\n",
    "            # Agregar texto al canal correspondiente\n",
    "            if frame_name == \"b_frame\":\n",
    "                # Insertamos el texto en el canal b modificado\n",
    "                b_colored = cv.cvtColor(b, cv.COLOR_GRAY2BGR)\n",
    "                cv.putText(b_colored, text, (textX, textY), font, fontScale, color, thickness, cv.LINE_AA)\n",
    "            elif frame_name == \"g_frame\":\n",
    "                # Insertamos el texto en el canal g modificado\n",
    "                g_colored = cv.cvtColor(g, cv.COLOR_GRAY2BGR)\n",
    "                cv.putText(g_colored, text, (textX, textY), font, fontScale, color, thickness, cv.LINE_AA)\n",
    "            elif frame_name == \"r_frame\":\n",
    "                # Insertamos el texto en el canal r\n",
    "                r_colored = cv.cvtColor(r, cv.COLOR_GRAY2BGR)\n",
    "                cv.putText(r_colored, text, (textX, textY), font, fontScale, color, thickness, cv.LINE_AA)\n",
    "\n",
    "        # Concatenar los canales en horizontal\n",
    "        collage = np.hstack((r_colored, g_colored, b_colored))\n",
    "\n",
    "        # Mostrar fotograma redimensionado\n",
    "        cv.imshow('RGB', cv.resize(collage, (int(weight * 1.5), int(height / 2)), interpolation=cv.INTER_NEAREST))\n",
    "\n",
    "    # Detenemos pulsado ESC\n",
    "    if cv.waitKey(20) == 27:\n",
    "        break\n",
    "\n",
    "# Libera el objeto de captura\n",
    "vid.release()\n",
    "# Destruye ventanas\n",
    "cv.destroyAllWindows()\n"
   ]
  },
  {
   "cell_type": "markdown",
   "metadata": {},
   "source": [
    "- # Pintar círculos en las posiciones del píxel más claro y oscuro de la imagen "
   ]
  },
  {
   "cell_type": "markdown",
   "metadata": {},
   "source": [
    "Funcion para encontrar el pixel más claro y el más oscuro"
   ]
  },
  {
   "cell_type": "code",
   "execution_count": null,
   "metadata": {},
   "outputs": [],
   "source": [
    "def find_brightest_and_darkest_pixel(image):\n",
    "    \"\"\"\n",
    "    Encuentra el píxel más brillante de la imagen.\n",
    "    :param image: Imagen de entrada en formato BGR\n",
    "    :return: Coordenadas del píxel más claro y su valor de brillo promedio\n",
    "    \"\"\"\n",
    "    # Convertir la imagen a escala de grises para facilitar el cálculo del brillo\n",
    "    gray_image = cv.cvtColor(image, cv.COLOR_BGR2GRAY)\n",
    "    \n",
    "    # Encontrar el valor máximo de brillo y su posición\n",
    "    darkest_value, brightest_value, coord_darkest, coord_brightest = cv.minMaxLoc(gray_image)\n",
    "    \n",
    "    return darkest_value, brightest_value, coord_darkest, coord_brightest"
   ]
  },
  {
   "cell_type": "markdown",
   "metadata": {},
   "source": [
    "Pintar círculos en el pixel más claro y el más oscuro."
   ]
  },
  {
   "cell_type": "code",
   "execution_count": null,
   "metadata": {},
   "outputs": [],
   "source": [
    "# Bucle principal del video en tiempo real\n",
    "video = cv.VideoCapture(0)\n",
    "while True:\n",
    "    # Leer el frame de la cámara\n",
    "    ret, image = video.read()\n",
    "    height, weight, _ = image.shape\n",
    "    font = cv.FONT_HERSHEY_SIMPLEX\n",
    "    fontScale = 0.5\n",
    "    color_dark = (255, 0, 0)\n",
    "    color_bright = (0, 255, 0)\n",
    "    thickness = 2\n",
    "\n",
    "    # Asegurarse de que el frame se haya leído correctamente\n",
    "    if not ret:\n",
    "        print(\"Error al acceder a la cámara.\")\n",
    "        break\n",
    "        # Configuración de texto\n",
    "\n",
    "    # Encontrar los píxeles más claros y más oscuros en la imagen\n",
    "    darkest_value, brightest_value, coord_darkest, coord_brightest = find_brightest_and_darkest_pixel(image)\n",
    "    \n",
    "    # Dibujar un círculo verde en el píxel más claro\n",
    "    cv.circle(image, coord_brightest, 8, (0, 255, 0), -1)\n",
    "\n",
    "    # Dibujar un círculo azul en el píxel más oscuro\n",
    "    cv.circle(image, coord_darkest, 8, (255, 0, 0), -1)\n",
    "\n",
    "    text_claro = f\"Coord{coord_darkest} - Pixel mas claro: {brightest_value}\"  \n",
    "    text_oscuro = f\"Coord{coord_brightest} - Pixel mas oscuro: {darkest_value}\" \n",
    "    textsize = cv.getTextSize(text_oscuro, font, fontScale=fontScale, thickness=thickness)[0]\n",
    "\n",
    "    # Calcular la posición en la esquina inferior izquierda (dejando un pequeño margen)\n",
    "    textX = (weight - textsize[0] - 20)  # Se deja espacio para el margen y el texto\n",
    "    textY = height - 30  # Se deja un margen\n",
    "\n",
    "    cv.putText(image, text_claro, (textX, textY), font, fontScale, color_bright, thickness, cv.LINE_AA)\n",
    "    cv.putText(image, text_oscuro, (textX, textY+20), font, fontScale, color_dark, thickness, cv.LINE_AA)\n",
    "\n",
    "\n",
    "\n",
    "    # Mostrar la imagen con los puntos resaltados\n",
    "    cv.imshow(\"Camara\", image)\n",
    "\n",
    "    # Salir del bucle si se presiona la tecla 'Esc' (código ASCII 27)\n",
    "    if cv.waitKey(20) == 27:\n",
    "        break\n",
    "\n",
    "# Liberar recursos\n",
    "video.release()\n",
    "cv.destroyAllWindows()"
   ]
  },
  {
   "cell_type": "markdown",
   "metadata": {},
   "source": [
    "- # Pintar las zonas 8x8 mas claras y mas oscuras"
   ]
  },
  {
   "cell_type": "markdown",
   "metadata": {},
   "source": [
    "Funcion para encontrar el pixel más claro y el más oscuro"
   ]
  },
  {
   "cell_type": "markdown",
   "metadata": {},
   "source": [
    "Pintar la region 8x8 más clara y la más oscura"
   ]
  },
  {
   "cell_type": "code",
   "execution_count": null,
   "metadata": {},
   "outputs": [],
   "source": [
    "def find_brightest_and_darkest_8x8_region(image, find_max=True):\n",
    "    extreme_region = None\n",
    "    extreme_brightness = -1 if find_max else 256  # Inicializar con valores apropiados\n",
    "\n",
    "    for y in range(image.shape[0] - 7):\n",
    "        for x in range(image.shape[1] - 7):\n",
    "            region = image[y:y+8, x:x+8]\n",
    "            region_brightness = np.mean(region)\n",
    "            if (find_max and region_brightness > extreme_brightness) or \\\n",
    "               (not find_max and region_brightness < extreme_brightness):\n",
    "                extreme_brightness = region_brightness\n",
    "                extreme_region = (x, y)\n",
    "\n",
    "    return extreme_region, extreme_brightness\n",
    "\n",
    "video = cv.VideoCapture(0)\n",
    "\n",
    "font = cv.FONT_HERSHEY_SIMPLEX\n",
    "fontScale = 0.5\n",
    "color_dark = (255, 0, 0)\n",
    "color_bright = (0, 255, 0)\n",
    "thickness = 2\n",
    "\n",
    "while True:\n",
    "        ret, image = video.read()\n",
    "        if not ret:\n",
    "            print(\"Error al leer el frame.\")\n",
    "            break\n",
    "\n",
    "        gray_image = cv.cvtColor(image, cv.COLOR_BGR2GRAY)\n",
    "\n",
    "        darkest_region, _ = find_brightest_and_darkest_8x8_region(gray_image, find_max=False)\n",
    "        brightest_region, _ = find_brightest_and_darkest_8x8_region(gray_image, find_max=True)\n",
    "\n",
    "        if darkest_region:\n",
    "            cv.rectangle(image, darkest_region, (darkest_region[0] + 8, darkest_region[1] + 8), color_dark, thickness)\n",
    "\n",
    "        if brightest_region:\n",
    "            cv.rectangle(image, brightest_region, (brightest_region[0] + 8, brightest_region[1] + 8), color_bright, thickness)\n",
    "\n",
    "        height, width = image.shape[:2]\n",
    "        text_claro = \"Region 8x8 mas clara\"\n",
    "        text_oscuro = \"Region 8x8 mas oscura\"\n",
    "\n",
    "        textsize_claro = cv.getTextSize(text_claro, font, fontScale=fontScale, thickness=thickness)[0]\n",
    "        textsize_oscuro = cv.getTextSize(text_oscuro, font, fontScale=fontScale, thickness=thickness)[0]\n",
    "\n",
    "        textX = 10\n",
    "        textY = height - textsize_claro[1] - 10\n",
    "\n",
    "        cv.putText(image, text_claro, (textX, textY-10-textsize_claro[1]), font, fontScale, color_bright, thickness, cv.LINE_AA)\n",
    "        cv.putText(image, text_oscuro, (textX, textY), font, fontScale, color_dark, thickness, cv.LINE_AA)\n",
    "\n",
    "        cv.imshow(\"cam\", image)\n",
    "\n",
    "        if cv.waitKey(20) == 27:\n",
    "            break\n",
    "\n",
    "video.release()\n",
    "cv.destroyAllWindows()"
   ]
  },
  {
   "cell_type": "markdown",
   "metadata": {},
   "source": [
    "- # Pop Arts"
   ]
  },
  {
   "cell_type": "markdown",
   "metadata": {},
   "source": [
    "Pop Art de Triángulos"
   ]
  },
  {
   "cell_type": "code",
   "execution_count": 18,
   "metadata": {},
   "outputs": [],
   "source": [
    "# Inicializamos la captura de video\n",
    "vid = cv.VideoCapture(0)\n",
    "\n",
    "# Tamaño de la celda para la segmentación (número alto para reducir el número de triángulos y mejorar el rendimiento)\n",
    "cell_size = 24\n",
    "\n",
    "def draw_triangle_grid(img, cell_size):\n",
    "    height, width = img.shape[:2]\n",
    "    triangles = []\n",
    "    \n",
    "    for y in range(0, height, cell_size):\n",
    "        for x in range(0, width, cell_size):\n",
    "            # Definimos las coordenadas de los triángulos\n",
    "            points1 = np.array([[x, y], [x + cell_size, y], [x, y + cell_size]], np.int32)\n",
    "            points2 = np.array([[x + cell_size, y], [x + cell_size, y + cell_size], [x, y + cell_size]], np.int32)\n",
    "            triangles.append((points1, points2))\n",
    "    \n",
    "    return triangles\n",
    "\n",
    "def apply_triangle_effect(frame, triangles):\n",
    "    height, width = frame.shape[:2]\n",
    "    output = np.zeros((height, width, 3), dtype=np.uint8)\n",
    "    \n",
    "    for points1, points2 in triangles:\n",
    "        # Extraemos el color promedio del área del triángulo\n",
    "        mask1 = np.zeros((height, width), dtype=np.uint8)\n",
    "        cv.fillConvexPoly(mask1, points1, 255)\n",
    "        color1 = cv.mean(frame, mask=mask1)[:3]\n",
    "\n",
    "        mask2 = np.zeros((height, width), dtype=np.uint8)\n",
    "        cv.fillConvexPoly(mask2, points2, 255)\n",
    "        color2 = cv.mean(frame, mask=mask2)[:3]\n",
    "\n",
    "        cv.fillConvexPoly(output, points1, color1)\n",
    "        cv.fillConvexPoly(output, points2, color2)\n",
    "    \n",
    "    return output\n",
    "\n",
    "while True:\n",
    "    # Leemos el fotograma actual\n",
    "    ret, frame = vid.read()\n",
    "    \n",
    "    # Verificamos que se haya leído correctamente el fotograma\n",
    "    if not ret:\n",
    "        break\n",
    "    \n",
    "    # Dibujamos la malla de triángulos\n",
    "    triangles = draw_triangle_grid(frame, cell_size)\n",
    "    \n",
    "    # Aplicamos el efecto triangular\n",
    "    triangle_frame = apply_triangle_effect(frame, triangles)\n",
    "\n",
    "    # Mostramos el fotograma resultante con el efecto triangular\n",
    "    cv.imshow('Triangle Cam', triangle_frame)\n",
    "    \n",
    "    # Si se presiona la tecla 'ESC', salimos del bucle\n",
    "    if cv.waitKey(20) == 27:\n",
    "        break\n",
    "\n",
    "# Libera el objeto de captura y cierra las ventanas\n",
    "vid.release()\n",
    "cv.destroyAllWindows()\n"
   ]
  },
  {
   "cell_type": "markdown",
   "metadata": {},
   "source": [
    "Pop Art de Circulos"
   ]
  },
  {
   "cell_type": "code",
   "execution_count": 19,
   "metadata": {},
   "outputs": [],
   "source": [
    "# Inicializamos la captura de video\n",
    "vid = cv.VideoCapture(0)\n",
    "\n",
    "# Tamaño de la celda para la segmentación (ajustado para los círculos)\n",
    "cell_size = 24\n",
    "\n",
    "def draw_circle_grid(img, cell_size):\n",
    "    height, width = img.shape[:2]\n",
    "    circles = []\n",
    "    \n",
    "    for y in range(cell_size // 2, height, cell_size):\n",
    "        for x in range(cell_size // 2, width, cell_size):\n",
    "            # Definimos las coordenadas de los círculos\n",
    "            circles.append((x, y, cell_size // 2))\n",
    "    \n",
    "    return circles\n",
    "\n",
    "def apply_circle_effect(frame, circles):\n",
    "    height, width = frame.shape[:2]\n",
    "    output = np.zeros((height, width, 3), dtype=np.uint8)\n",
    "    \n",
    "    for x, y, radius in circles:\n",
    "        # Creamos una máscara circular\n",
    "        mask = np.zeros((height, width), dtype=np.uint8)\n",
    "        cv.circle(mask, (x, y), radius, 255, -1)\n",
    "        \n",
    "        # Extraemos el color promedio del área del círculo\n",
    "        color = cv.mean(frame, mask=mask)[:3]\n",
    "\n",
    "        # Aplicamos el color promedio al círculo en la imagen de salida\n",
    "        cv.circle(output, (x, y), radius, color, -1)\n",
    "    \n",
    "    return output\n",
    "\n",
    "while True:\n",
    "    # Leemos el fotograma actual\n",
    "    ret, frame = vid.read()\n",
    "    \n",
    "    # Verificamos que se haya leído correctamente el fotograma\n",
    "    if not ret:\n",
    "        break\n",
    "    \n",
    "    # Dibujamos la malla de círculos\n",
    "    circles = draw_circle_grid(frame, cell_size)\n",
    "    \n",
    "    # Aplicamos el efecto de círculos\n",
    "    circle_frame = apply_circle_effect(frame, circles)\n",
    "\n",
    "    # Mostramos el fotograma resultante con el efecto de círculos\n",
    "    cv.imshow('Circle Cam', circle_frame)\n",
    "    \n",
    "    # Si se presiona la tecla 'ESC', salimos del bucle\n",
    "    if cv.waitKey(20) == 27:\n",
    "        break\n",
    "\n",
    "# Libera el objeto de captura y cierra las ventanas\n",
    "vid.release()\n",
    "cv.destroyAllWindows()\n"
   ]
  },
  {
   "cell_type": "markdown",
   "metadata": {},
   "source": [
    "Pop Art de líneas"
   ]
  },
  {
   "cell_type": "code",
   "execution_count": 20,
   "metadata": {},
   "outputs": [],
   "source": [
    "# Inicializamos la captura de video\n",
    "vid = cv.VideoCapture(0)\n",
    "\n",
    "# Se define el número de celdas en cada dimensión (ncells x ncells)\n",
    "cell_size = 8  # Tamaño de la celda (8x8 píxeles)\n",
    "\n",
    "# Inicializamos fotograma anterior como None\n",
    "previous_frame = None\n",
    "\n",
    "# Función para aplicar un estilo pop art basado en contornos de línea\n",
    "def apply_pop_art_line_effect(frame):\n",
    "    # Aplicamos el detector de bordes de Canny para obtener los contornos\n",
    "    edges = cv.Canny(frame, 100, 200)\n",
    "    \n",
    "    # Convertimos los bordes a un formato de 3 canales (RGB)\n",
    "    edges_colored = cv.cvtColor(edges, cv.COLOR_GRAY2BGR)\n",
    "    \n",
    "    # Aplicamos el mapa de color azul a los bordes\n",
    "    color_map = cv.applyColorMap(edges_colored, cv.COLORMAP_JET)\n",
    "    \n",
    "    return color_map\n",
    "\n",
    "while True:\n",
    "    # Leemos el fotograma actual\n",
    "    ret, frame = vid.read()\n",
    "    \n",
    "    # Verificamos que se haya leído correctamente el fotograma\n",
    "    if not ret:\n",
    "        break\n",
    "    \n",
    "    # Convertimos el fotograma actual a escala de grises (necesario para detectar bordes)\n",
    "    gray_frame = cv.cvtColor(frame, cv.COLOR_BGR2GRAY)\n",
    "    \n",
    "    # Aplicamos el efecto pop art con contornos de líneas a toda la imagen\n",
    "    pop_art_frame = apply_pop_art_line_effect(gray_frame)\n",
    "\n",
    "    # Mostramos el fotograma resultante con el efecto de contornos de línea y pop art\n",
    "    cv.imshow('Pop Art Line Cam', pop_art_frame)\n",
    "    \n",
    "    # Actualizamos el fotograma anterior\n",
    "    previous_frame = gray_frame\n",
    "    \n",
    "    # Si se presiona la tecla 'ESC', salimos del bucle\n",
    "    if cv.waitKey(20) == 27:\n",
    "        break\n",
    "\n",
    "# Libera el objeto de captura y cierra las ventanas\n",
    "vid.release()\n",
    "cv.destroyAllWindows()\n"
   ]
  },
  {
   "cell_type": "markdown",
   "metadata": {},
   "source": [
    "- # Extras de Prueba"
   ]
  },
  {
   "cell_type": "markdown",
   "metadata": {},
   "source": [
    "Detección de movimiento\n"
   ]
  },
  {
   "cell_type": "code",
   "execution_count": 23,
   "metadata": {},
   "outputs": [],
   "source": [
    "# Inicializamos la captura de video\n",
    "vid = cv.VideoCapture(0)\n",
    "\n",
    "# Se define el número de celdas en cada dimensión (ncells x ncells)\n",
    "ncells = 10\n",
    "cell_size = 4  # Tamaño de la celda (8x8 píxeles)\n",
    "off = int(ncells / 2)\n",
    "\n",
    "# Inicializamos fotograma anterior como None\n",
    "previous_frame = None\n",
    "\n",
    "while True:\n",
    "    # Leemos el fotograma actual\n",
    "    ret, frame = vid.read()\n",
    "    \n",
    "    # Verificamos que se haya leído correctamente el fotograma\n",
    "    if not ret:\n",
    "        break\n",
    "    \n",
    "    # Convertimos el fotograma actual a escala de grises\n",
    "    gray_frame = cv.cvtColor(frame, cv.COLOR_BGR2GRAY)\n",
    "    \n",
    "    # Si no hay fotograma anterior, lo inicializamos con el actual\n",
    "    if previous_frame is None:\n",
    "        previous_frame = gray_frame\n",
    "        continue\n",
    "    \n",
    "    # Creamos una imagen negra del mismo tamaño que el fotograma para mostrar los cambios\n",
    "    diff_frame = np.zeros_like(gray_frame)\n",
    "    \n",
    "    # Dividimos la imagen en regiones de 8x8 píxeles y comparamos la intensidad promedio\n",
    "    for i in range(0, gray_frame.shape[0], cell_size):\n",
    "        for j in range(0, gray_frame.shape[1], cell_size):\n",
    "            # Definimos la región de la celda en la imagen\n",
    "            current_cell = gray_frame[i:i+cell_size, j:j+cell_size]\n",
    "            previous_cell = previous_frame[i:i+cell_size, j:j+cell_size]\n",
    "            \n",
    "            # Calculamos la intensidad promedio en la celda actual y la celda anterior\n",
    "            current_avg = np.mean(current_cell)\n",
    "            previous_avg = np.mean(previous_cell)\n",
    "            \n",
    "            # Si la diferencia es mayor a un umbral, pintamos la celda de blanco\n",
    "            if abs(current_avg - previous_avg) > 10:  # Umbral de diferencia (puedes ajustarlo)\n",
    "                diff_frame[i:i+cell_size, j:j+cell_size] = 255  # Pinta de blanco\n",
    "    \n",
    "    # Mostramos el fotograma resultante con los cambios detectados\n",
    "    cv.imshow('Cam', diff_frame)\n",
    "    \n",
    "    # Actualizamos el fotograma anterior\n",
    "    previous_frame = gray_frame\n",
    "    \n",
    "    # Si se presiona la tecla 'ESC', salimos del bucle\n",
    "    if cv.waitKey(20) == 27:\n",
    "        break\n",
    "\n",
    "# Libera el objeto de captura y cierra las ventanas\n",
    "vid.release()\n",
    "cv.destroyAllWindows()"
   ]
  },
  {
   "cell_type": "markdown",
   "metadata": {},
   "source": [
    "Deteccion de caras"
   ]
  },
  {
   "cell_type": "code",
   "execution_count": 24,
   "metadata": {},
   "outputs": [],
   "source": [
    "# Cargamos el clasificador en cascada para la detección de rostros\n",
    "face_cascade = cv.CascadeClassifier(cv.data.haarcascades + 'haarcascade_frontalface_default.xml')\n",
    "\n",
    "# Inicializamos la captura de video\n",
    "vid = cv.VideoCapture(0)\n",
    "\n",
    "while True:\n",
    "    # Leemos el fotograma actual\n",
    "    ret, frame = vid.read()\n",
    "    \n",
    "    # Verificamos que se haya leído correctamente el fotograma\n",
    "    if not ret:\n",
    "        break\n",
    "    \n",
    "    # Convertimos el fotograma actual a escala de grises\n",
    "    gray_frame = cv.cvtColor(frame, cv.COLOR_BGR2GRAY)\n",
    "    \n",
    "    # Detectamos rostros en el fotograma actual\n",
    "    faces = face_cascade.detectMultiScale(gray_frame, scaleFactor=1.1, minNeighbors=5, minSize=(30, 30))\n",
    "    \n",
    "    # Dibujamos un rectángulo alrededor de cada rostro detectado\n",
    "    for (x, y, w, h) in faces:\n",
    "        cv.rectangle(frame, (x, y), (x + w, y + h), (255, 0, 0), 2)\n",
    "    \n",
    "    # Mostramos el fotograma con los rostros detectados\n",
    "    cv.imshow('Rostros detectados', frame)\n",
    "    \n",
    "    # Si se presiona la tecla 'ESC', salimos del bucle\n",
    "    if cv.waitKey(20) == 27:\n",
    "        break\n",
    "\n",
    "# Libera el objeto de captura y cierra las ventanas\n",
    "vid.release()\n",
    "cv.destroyAllWindows()\n"
   ]
  },
  {
   "cell_type": "markdown",
   "metadata": {},
   "source": [
    "Efecto desenfoque de la cara"
   ]
  },
  {
   "cell_type": "code",
   "execution_count": 4,
   "metadata": {},
   "outputs": [],
   "source": [
    "# Cargamos el clasificador en cascada para la detección de rostros\n",
    "face_cascade = cv.CascadeClassifier(cv.data.haarcascades + 'haarcascade_frontalface_default.xml')\n",
    "\n",
    "# Inicializamos la captura de video\n",
    "vid = cv.VideoCapture(0)\n",
    "\n",
    "while True:\n",
    "    # Leemos el fotograma actual\n",
    "    ret, frame = vid.read()\n",
    "    \n",
    "    # Verificamos que se haya leído correctamente el fotograma\n",
    "    if not ret:\n",
    "        break\n",
    "    \n",
    "    # Convertimos el fotograma actual a escala de grises\n",
    "    gray_frame = cv.cvtColor(frame, cv.COLOR_BGR2GRAY)\n",
    "    \n",
    "    # Detectamos rostros en el fotograma actual\n",
    "    faces = face_cascade.detectMultiScale(gray_frame, scaleFactor=1.1, minNeighbors=5, minSize=(30, 30))\n",
    "    \n",
    "    # Aplicacmos un desenfoque al area detectada como cara\n",
    "    for (x, y, w, h) in faces:\n",
    "        frame[y:y+h, x:x+w] = cv.GaussianBlur(frame[y:y+h, x:x+w], (51, 51), 30)\n",
    "    \n",
    "    # Mostramos el fotograma con los rostros detectados\n",
    "    cv.imshow('Rostros detectados', frame)\n",
    "    \n",
    "    # Si se presiona la tecla 'ESC', salimos del bucle\n",
    "    if cv.waitKey(20) == 27:\n",
    "        break\n",
    "\n",
    "# Libera el objeto de captura y cierra las ventanas\n",
    "vid.release()\n",
    "cv.destroyAllWindows()"
   ]
  },
  {
   "cell_type": "markdown",
   "metadata": {},
   "source": [
    "Mezcla de Deteccion de movmiento + detección de caras y modificación + mapas de colores a divisiones de la imagen"
   ]
  },
  {
   "cell_type": "code",
   "execution_count": 5,
   "metadata": {},
   "outputs": [],
   "source": [
    "# Cargamos el clasificador en cascada para la detección de rostros\n",
    "face_cascade = cv.CascadeClassifier(cv.data.haarcascades + 'haarcascade_frontalface_default.xml')\n",
    "\n",
    "# Inicializamos la captura de video\n",
    "vid = cv.VideoCapture(0)\n",
    "\n",
    "# Se define el número de celdas en cada dimensión (ncells x ncells)\n",
    "cell_size = 8  # Tamaño de la celda (8x8 píxeles)\n",
    "\n",
    "# Inicializamos fotograma anterior como None\n",
    "previous_frame = None\n",
    "\n",
    "# Función para aplicar filtros de color pop art\n",
    "def apply_pop_art_effect(frame):\n",
    "    # Convertimos la imagen a color si está en escala de grises\n",
    "    if len(frame.shape) == 2:  # Si es una imagen de un solo canal (escala de grises)\n",
    "        frame = cv.cvtColor(frame, cv.COLOR_GRAY2BGR)\n",
    "\n",
    "    # Aplicamos diferentes mapas de colores\n",
    "    color_map1 = cv.applyColorMap(frame, cv.COLORMAP_HOT)\n",
    "    color_map2 = cv.applyColorMap(frame, cv.COLORMAP_JET)\n",
    "    color_map3 = cv.applyColorMap(frame, cv.COLORMAP_RAINBOW)\n",
    "    color_map4 = cv.applyColorMap(frame, cv.COLORMAP_HSV)\n",
    "    \n",
    "    # Dividimos la imagen en 4 partes iguales y aplicamos diferentes mapas de color\n",
    "    height, width = frame.shape[:2]\n",
    "    half_height, half_width = height // 2, width // 2\n",
    "    \n",
    "    # Crear una imagen en blanco para combinar los efectos de color\n",
    "    pop_art_frame = np.zeros_like(frame)\n",
    "\n",
    "    # Asignar cada mapa de color a una sección\n",
    "    pop_art_frame[:half_height, :half_width] = color_map1[:half_height, :half_width]\n",
    "    pop_art_frame[:half_height, half_width:] = color_map2[:half_height, half_width:]\n",
    "    pop_art_frame[half_height:, :half_width] = color_map3[half_height:, :half_width]\n",
    "    pop_art_frame[half_height:, half_width:] = color_map4[half_height:, half_width:]\n",
    "    \n",
    "    return pop_art_frame\n",
    "\n",
    "while True:\n",
    "    # Leemos el fotograma actual\n",
    "    ret, frame = vid.read()\n",
    "    \n",
    "    # Verificamos que se haya leído correctamente el fotograma\n",
    "    if not ret:\n",
    "        break\n",
    "    \n",
    "    # Convertimos el fotograma actual a escala de grises (necesario para la detección de rostros y cambios)\n",
    "    gray_frame = cv.cvtColor(frame, cv.COLOR_BGR2GRAY)\n",
    "    \n",
    "    # Detectamos rostros en el fotograma actual\n",
    "    faces = face_cascade.detectMultiScale(gray_frame, scaleFactor=1.1, minNeighbors=5, minSize=(30, 30))\n",
    "    \n",
    "    # Si no hay fotograma anterior, lo inicializamos con el actual\n",
    "    if previous_frame is None:\n",
    "        previous_frame = gray_frame\n",
    "        continue\n",
    "\n",
    "    # Aplicamos un efecto pop art en la imagen en escala de grises\n",
    "    pop_art_frame = apply_pop_art_effect(gray_frame)\n",
    "    \n",
    "    # Aplicamos el efecto de pintura de líneas a las regiones donde se detectaron rostros\n",
    "    for (x, y, w, h) in faces:\n",
    "        face_region = frame[y:y+h, x:x+w]\n",
    "        \n",
    "        # Aplicamos el detector de bordes de Canny para crear el efecto de líneas\n",
    "        edges = cv.Canny(face_region, 100, 200)\n",
    "        \n",
    "        # Convertimos los bordes a un formato de 3 canales para combinarlo con la imagen original\n",
    "        edges_colored = cv.cvtColor(edges, cv.COLOR_GRAY2BGR)\n",
    "        \n",
    "        # Reemplazamos la región del rostro original con el efecto de líneas\n",
    "        pop_art_frame[y:y+h, x:x+w] = edges_colored\n",
    "\n",
    "    # Dividimos la imagen en regiones de 8x8 píxeles y comparamos la intensidad promedio\n",
    "    for i in range(0, gray_frame.shape[0], cell_size):\n",
    "        for j in range(0, gray_frame.shape[1], cell_size):\n",
    "            # Verificamos si la celda actual está dentro de un rostro\n",
    "            in_face = False\n",
    "            for (x, y, w, h) in faces:\n",
    "                if x <= j < x + w and y <= i < y + h:\n",
    "                    in_face = True\n",
    "                    break\n",
    "            \n",
    "            if in_face:\n",
    "                continue  # No aplicamos detección de cambios en los rostros\n",
    "            \n",
    "            # Definimos la región de la celda en la imagen\n",
    "            current_cell = gray_frame[i:i + cell_size, j:j + cell_size]\n",
    "            previous_cell = previous_frame[i:i + cell_size, j:j + cell_size]\n",
    "            \n",
    "            # Calculamos la intensidad promedio en la celda actual y la celda anterior\n",
    "            current_avg = np.mean(current_cell)\n",
    "            previous_avg = np.mean(previous_cell)\n",
    "            \n",
    "            # Si la diferencia es mayor a un umbral, pintamos la celda de blanco\n",
    "            if abs(current_avg - previous_avg) > 10:  # Umbral de diferencia\n",
    "                pop_art_frame[i:i + cell_size, j:j + cell_size] = (255, 255, 255)  # Celda blanca para indicar cambio\n",
    "    \n",
    "    # Mostramos el fotograma resultante con los cambios detectados y los rostros modificados\n",
    "    cv.imshow('Pop Art Cam', pop_art_frame)\n",
    "    \n",
    "    # Actualizamos el fotograma anterior\n",
    "    previous_frame = gray_frame\n",
    "    \n",
    "    # Si se presiona la tecla 'ESC', salimos del bucle\n",
    "    if cv.waitKey(20) == 27:\n",
    "        break\n",
    "\n",
    "# Libera el objeto de captura y cierra las ventanas\n",
    "vid.release()\n",
    "cv.destroyAllWindows()\n"
   ]
  }
 ],
 "metadata": {
  "kernelspec": {
   "display_name": "VC_P1",
   "language": "python",
   "name": "python3"
  },
  "language_info": {
   "codemirror_mode": {
    "name": "ipython",
    "version": 3
   },
   "file_extension": ".py",
   "mimetype": "text/x-python",
   "name": "python",
   "nbconvert_exporter": "python",
   "pygments_lexer": "ipython3",
   "version": "3.11.5"
  }
 },
 "nbformat": 4,
 "nbformat_minor": 2
}
