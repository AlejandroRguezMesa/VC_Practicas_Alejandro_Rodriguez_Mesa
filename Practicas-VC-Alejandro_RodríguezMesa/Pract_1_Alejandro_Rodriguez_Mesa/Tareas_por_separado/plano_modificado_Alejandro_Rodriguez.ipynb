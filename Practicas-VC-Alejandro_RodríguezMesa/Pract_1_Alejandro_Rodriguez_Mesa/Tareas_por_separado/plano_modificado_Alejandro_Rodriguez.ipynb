{
 "cells": [
  {
   "cell_type": "markdown",
   "metadata": {},
   "source": [
    "Alejandro Rodríguez Mesa, Visión por Computador\n"
   ]
  },
  {
   "cell_type": "markdown",
   "metadata": {},
   "source": [
    "Práctica 1 - Modifica de forma libre los valores de un plano de la imagen"
   ]
  },
  {
   "cell_type": "markdown",
   "metadata": {},
   "source": [
    "Paquetes necesarios"
   ]
  },
  {
   "cell_type": "code",
   "execution_count": 1,
   "metadata": {},
   "outputs": [],
   "source": [
    "\n",
    "import cv2 as cv\n",
    "import numpy as np\n",
    "import matplotlib.pyplot as plt\n"
   ]
  },
  {
   "cell_type": "markdown",
   "metadata": {},
   "source": [
    "Inicializaciones"
   ]
  },
  {
   "cell_type": "code",
   "execution_count": 2,
   "metadata": {},
   "outputs": [],
   "source": [
    "#Dimensiones de la imagen a crear\n",
    "ancho = 600\n",
    "alto = 600"
   ]
  },
  {
   "cell_type": "markdown",
   "metadata": {},
   "source": [
    "Separa los tres planos de la imagen captada por la webcam y muestra en horizontal y hace una modificacion"
   ]
  },
  {
   "cell_type": "code",
   "execution_count": 4,
   "metadata": {},
   "outputs": [],
   "source": [
    "vid = cv.VideoCapture(0)\n",
    "\n",
    "while True:\n",
    "    # Captura fotograma a fotograma\n",
    "    ret, frame = vid.read()\n",
    "\n",
    "    if ret:\n",
    "        # Configuración de texto\n",
    "        font = cv.FONT_HERSHEY_SIMPLEX\n",
    "        fontScale = 1\n",
    "        color = (255, 255, 255)\n",
    "        thickness = 3\n",
    "\n",
    "        # Separar los canales\n",
    "        b_frame = frame.copy()\n",
    "        g_frame = frame.copy()\n",
    "        r_frame = frame.copy()\n",
    "\n",
    "        # Obtener dimensiones de la imagen\n",
    "        height, weight, _ = frame.shape\n",
    "\n",
    "        # Aplicar modificaciones a los canales\n",
    "        b = 255 - b_frame[:, :, 0]  # Inversión de canal\n",
    "        g = cv.GaussianBlur(g_frame[:, :, 1], (15, 15), 0)  # Desenfoque Gaussiano\n",
    "        r = r_frame[:, :, 2]  # Canal sin modificar\n",
    "\n",
    "        # Definir los textos para cada canal\n",
    "        texts = {\n",
    "            \"b_frame\": \"Canal Inverso\",\n",
    "            \"g_frame\": \"Canal Desenfoque\",\n",
    "            \"r_frame\": \"Canal Normal\"\n",
    "        }\n",
    "\n",
    "        # Agregar texto a cada canal después de aplicar las modificaciones para que no se modifique con la imagen\n",
    "        for frame_name, text in texts.items():\n",
    "            # Tamaño del texto\n",
    "            textsize = cv.getTextSize(text, font, fontScale=fontScale, thickness=thickness)[0]\n",
    "\n",
    "            # Calcular la posición en la esquina inferior izquierda (dejando un pequeño margen)\n",
    "            textX = (weight - textsize[0] - 10)  # Se deja espacio para el margen y el texto\n",
    "            textY = height - 10  # Se deja un margen\n",
    "\n",
    "            # Agregar texto al canal correspondiente\n",
    "            if frame_name == \"b_frame\":\n",
    "                # Insertamos el texto en el canal b modificado\n",
    "                b_colored = cv.cvtColor(b, cv.COLOR_GRAY2BGR)\n",
    "                cv.putText(b_colored, text, (textX, textY), font, fontScale, color, thickness, cv.LINE_AA)\n",
    "            elif frame_name == \"g_frame\":\n",
    "                # Insertamos el texto en el canal g modificado\n",
    "                g_colored = cv.cvtColor(g, cv.COLOR_GRAY2BGR)\n",
    "                cv.putText(g_colored, text, (textX, textY), font, fontScale, color, thickness, cv.LINE_AA)\n",
    "            elif frame_name == \"r_frame\":\n",
    "                # Insertamos el texto en el canal r\n",
    "                r_colored = cv.cvtColor(r, cv.COLOR_GRAY2BGR)\n",
    "                cv.putText(r_colored, text, (textX, textY), font, fontScale, color, thickness, cv.LINE_AA)\n",
    "\n",
    "        # Concatenar los canales en horizontal\n",
    "        collage = np.hstack((r_colored, g_colored, b_colored))\n",
    "\n",
    "        # Mostrar fotograma redimensionado\n",
    "        cv.imshow('RGB', cv.resize(collage, (int(weight * 1.5), int(height / 2)), interpolation=cv.INTER_NEAREST))\n",
    "\n",
    "    # Detenemos pulsado ESC\n",
    "    if cv.waitKey(20) == 27:\n",
    "        break\n",
    "\n",
    "# Libera el objeto de captura\n",
    "vid.release()\n",
    "# Destruye ventanas\n",
    "cv.destroyAllWindows()\n"
   ]
  }
 ],
 "metadata": {
  "kernelspec": {
   "display_name": "VC_P1",
   "language": "python",
   "name": "python3"
  },
  "language_info": {
   "codemirror_mode": {
    "name": "ipython",
    "version": 3
   },
   "file_extension": ".py",
   "mimetype": "text/x-python",
   "name": "python",
   "nbconvert_exporter": "python",
   "pygments_lexer": "ipython3",
   "version": "3.11.5"
  }
 },
 "nbformat": 4,
 "nbformat_minor": 2
}
