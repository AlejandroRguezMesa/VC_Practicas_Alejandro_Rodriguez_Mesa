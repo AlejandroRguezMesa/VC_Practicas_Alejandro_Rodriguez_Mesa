{
 "cells": [
  {
   "cell_type": "markdown",
   "metadata": {},
   "source": [
    "Alejandro Rodríguez Mesa, Visión por Computador\n"
   ]
  },
  {
   "cell_type": "markdown",
   "metadata": {},
   "source": [
    "Tarea - Crear una imagen con la textura de un tablero de ajedrez"
   ]
  },
  {
   "cell_type": "markdown",
   "metadata": {},
   "source": [
    "Paquetes necesarios"
   ]
  },
  {
   "cell_type": "code",
   "execution_count": 1,
   "metadata": {},
   "outputs": [],
   "source": [
    "import cv2  \n",
    "import numpy as np\n",
    "import matplotlib.pyplot as plt"
   ]
  },
  {
   "cell_type": "markdown",
   "metadata": {},
   "source": [
    "Inicializaciones"
   ]
  },
  {
   "cell_type": "code",
   "execution_count": 2,
   "metadata": {},
   "outputs": [],
   "source": [
    "#Dimensiones de la imagen a crear\n",
    "ancho = 600\n",
    "alto = 600"
   ]
  },
  {
   "cell_type": "markdown",
   "metadata": {},
   "source": [
    "Tablero de ajedrez 600x600"
   ]
  },
  {
   "cell_type": "code",
   "execution_count": null,
   "metadata": {},
   "outputs": [],
   "source": [
    "gris_img = np.zeros((alto,ancho,1), dtype = np.uint8)\n",
    "\n",
    "#Bucle anidado para pintar de blanco las celdas que corresponden. \n",
    "for i in range(9):\n",
    "    for j in range(9):\n",
    "        if (i % 2 == 1):\n",
    "            if (j%2 == 1):\n",
    "                gris_img[int((j-1)*alto/8):int(j*alto/8), int((i-1)*ancho/8):int(i*ancho/8), 0] = 255  \n",
    "            else:\n",
    "                gris_img[int((j-1)*alto/8):int(j*alto/8), int((i)*ancho/8):int((i+1)*ancho/8), 0] = 255\n",
    "\n",
    "#Muestra la imagen con matplotlib\n",
    "#Al ser un plano, recordar especificar que el mapa de color usado es de grises\n",
    "plt.imshow(gris_img[:, :, 0], cmap='gray') #Te animo a probar a eliminar la especificación del mapa de color\n",
    "plt.axis('off')  # Ocultar ejes\n",
    "plt.show()"
   ]
  },
  {
   "cell_type": "markdown",
   "metadata": {},
   "source": [
    "Muestra la imagen del tablero de ajedrez con imshow (OpenCV) en ventana independiente"
   ]
  },
  {
   "cell_type": "code",
   "execution_count": 4,
   "metadata": {},
   "outputs": [],
   "source": [
    "#Muestra la imagen del tablero con las utilidades de OpenCV en una ventana independiente\n",
    "cv2.imshow('Chessboard', gris_img)\n",
    "\n",
    "cv2.waitKey(-1) # Se detiene hasta pulsar tecla (>0 milisegundos)\n",
    "cv2.destroyAllWindows() # Destruye todas las ventanas"
   ]
  }
 ],
 "metadata": {
  "kernelspec": {
   "display_name": "VC_P1",
   "language": "python",
   "name": "python3"
  },
  "language_info": {
   "codemirror_mode": {
    "name": "ipython",
    "version": 3
   },
   "file_extension": ".py",
   "mimetype": "text/x-python",
   "name": "python",
   "nbconvert_exporter": "python",
   "pygments_lexer": "ipython3",
   "version": "3.11.5"
  }
 },
 "nbformat": 4,
 "nbformat_minor": 2
}
