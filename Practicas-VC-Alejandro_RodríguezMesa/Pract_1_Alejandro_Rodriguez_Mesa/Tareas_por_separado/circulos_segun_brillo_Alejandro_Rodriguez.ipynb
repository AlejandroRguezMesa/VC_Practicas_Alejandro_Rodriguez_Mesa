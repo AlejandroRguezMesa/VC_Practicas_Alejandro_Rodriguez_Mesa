{
 "cells": [
  {
   "cell_type": "markdown",
   "metadata": {},
   "source": [
    "Alejandro Rodríguez Mesa, Visión por Computador\n"
   ]
  },
  {
   "cell_type": "markdown",
   "metadata": {},
   "source": [
    "Tarea - Pintar círculos en las posiciones del píxel más claro y oscuro de la imagen"
   ]
  },
  {
   "cell_type": "markdown",
   "metadata": {},
   "source": [
    "Paquetes necesarios"
   ]
  },
  {
   "cell_type": "code",
   "execution_count": 5,
   "metadata": {},
   "outputs": [],
   "source": [
    "\n",
    "import cv2 as cv\n",
    "import numpy as np\n",
    "import matplotlib.pyplot as plt\n"
   ]
  },
  {
   "cell_type": "markdown",
   "metadata": {},
   "source": [
    "Inicializaciones"
   ]
  },
  {
   "cell_type": "code",
   "execution_count": 6,
   "metadata": {},
   "outputs": [],
   "source": [
    "#Dimensiones de la imagen a crear\n",
    "ancho = 600\n",
    "alto = 600\n"
   ]
  },
  {
   "cell_type": "markdown",
   "metadata": {},
   "source": [
    "Funcion para encontrar el pixel más claro y el más oscuro"
   ]
  },
  {
   "cell_type": "code",
   "execution_count": 7,
   "metadata": {},
   "outputs": [],
   "source": [
    "def find_brightest_and_darkest_pixel(image):\n",
    "    \"\"\"\n",
    "    Encuentra el píxel más brillante de la imagen.\n",
    "    :param image: Imagen de entrada en formato BGR\n",
    "    :return: Coordenadas del píxel más claro y su valor de brillo promedio\n",
    "    \"\"\"\n",
    "    # Convertir la imagen a escala de grises para facilitar el cálculo del brillo\n",
    "    gray_image = cv.cvtColor(image, cv.COLOR_BGR2GRAY)\n",
    "    \n",
    "    # Encontrar el valor máximo de brillo y su posición\n",
    "    darkest_value, brightest_value, coord_darkest, coord_brightest = cv.minMaxLoc(gray_image)\n",
    "    \n",
    "    return darkest_value, brightest_value, coord_darkest, coord_brightest"
   ]
  },
  {
   "cell_type": "markdown",
   "metadata": {},
   "source": [
    "Pintar círculos en el pixel más claro y el más oscuro."
   ]
  },
  {
   "cell_type": "code",
   "execution_count": 13,
   "metadata": {},
   "outputs": [],
   "source": [
    "# Bucle principal del video en tiempo real\n",
    "video = cv.VideoCapture(0)\n",
    "while True:\n",
    "    # Leer el frame de la cámara\n",
    "    ret, image = video.read()\n",
    "    height, weight, _ = image.shape\n",
    "    font = cv.FONT_HERSHEY_SIMPLEX\n",
    "    fontScale = 0.5\n",
    "    color_dark = (255, 0, 0)\n",
    "    color_bright = (0, 255, 0)\n",
    "    thickness = 2\n",
    "\n",
    "    # Asegurarse de que el frame se haya leído correctamente\n",
    "    if not ret:\n",
    "        print(\"Error al acceder a la cámara.\")\n",
    "        break\n",
    "        # Configuración de texto\n",
    "\n",
    "    # Encontrar los píxeles más claros y más oscuros en la imagen\n",
    "    darkest_value, brightest_value, coord_darkest, coord_brightest = find_brightest_and_darkest_pixel(image)\n",
    "    \n",
    "    # Dibujar un círculo verde en el píxel más claro\n",
    "    cv.circle(image, coord_brightest, 8, (0, 255, 0), -1)\n",
    "\n",
    "    # Dibujar un círculo azul en el píxel más oscuro\n",
    "    cv.circle(image, coord_darkest, 8, (255, 0, 0), -1)\n",
    "\n",
    "    text_claro = f\"Coord{coord_darkest} - Pixel mas claro: {brightest_value}\"  \n",
    "    text_oscuro = f\"Coord{coord_brightest} - Pixel mas oscuro: {darkest_value}\" \n",
    "    textsize = cv.getTextSize(text_oscuro, font, fontScale=fontScale, thickness=thickness)[0]\n",
    "\n",
    "    # Calcular la posición en la esquina inferior izquierda (dejando un pequeño margen)\n",
    "    textX = (weight - textsize[0] - 20)  # Se deja espacio para el margen y el texto\n",
    "    textY = height - 30  # Se deja un margen\n",
    "\n",
    "    cv.putText(image, text_claro, (textX, textY), font, fontScale, color_bright, thickness, cv.LINE_AA)\n",
    "    cv.putText(image, text_oscuro, (textX, textY+20), font, fontScale, color_dark, thickness, cv.LINE_AA)\n",
    "\n",
    "\n",
    "\n",
    "    # Mostrar la imagen con los puntos resaltados\n",
    "    cv.imshow(\"Camara\", image)\n",
    "\n",
    "    # Salir del bucle si se presiona la tecla 'Esc' (código ASCII 27)\n",
    "    if cv.waitKey(20) == 27:\n",
    "        break\n",
    "\n",
    "# Liberar recursos\n",
    "video.release()\n",
    "cv.destroyAllWindows()"
   ]
  },
  {
   "cell_type": "markdown",
   "metadata": {},
   "source": [
    "Tarea - Pintar la region 8x8 más clara y la más oscura"
   ]
  },
  {
   "cell_type": "code",
   "execution_count": 31,
   "metadata": {},
   "outputs": [],
   "source": [
    "def find_brightest_and_darkest_8x8_region(image, find_max=True):\n",
    "    extreme_region = None\n",
    "    extreme_brightness = -1 if find_max else 256  # Inicializar con valores apropiados\n",
    "\n",
    "    for y in range(image.shape[0] - 7):\n",
    "        for x in range(image.shape[1] - 7):\n",
    "            region = image[y:y+8, x:x+8]\n",
    "            region_brightness = np.mean(region)\n",
    "            if (find_max and region_brightness > extreme_brightness) or \\\n",
    "               (not find_max and region_brightness < extreme_brightness):\n",
    "                extreme_brightness = region_brightness\n",
    "                extreme_region = (x, y)\n",
    "\n",
    "    return extreme_region, extreme_brightness\n",
    "\n",
    "video = cv.VideoCapture(0)\n",
    "\n",
    "font = cv.FONT_HERSHEY_SIMPLEX\n",
    "fontScale = 0.5\n",
    "color_dark = (255, 0, 0)\n",
    "color_bright = (0, 255, 0)\n",
    "thickness = 2\n",
    "\n",
    "while True:\n",
    "        ret, image = video.read()\n",
    "        if not ret:\n",
    "            print(\"Error al leer el frame.\")\n",
    "            break\n",
    "\n",
    "        gray_image = cv.cvtColor(image, cv.COLOR_BGR2GRAY)\n",
    "\n",
    "        darkest_region, _ = find_brightest_and_darkest_8x8_region(gray_image, find_max=False)\n",
    "        brightest_region, _ = find_brightest_and_darkest_8x8_region(gray_image, find_max=True)\n",
    "\n",
    "        if darkest_region:\n",
    "            cv.rectangle(image, darkest_region, (darkest_region[0] + 8, darkest_region[1] + 8), color_dark, thickness)\n",
    "\n",
    "        if brightest_region:\n",
    "            cv.rectangle(image, brightest_region, (brightest_region[0] + 8, brightest_region[1] + 8), color_bright, thickness)\n",
    "\n",
    "        height, width = image.shape[:2]\n",
    "        text_claro = \"Region 8x8 mas clara\"\n",
    "        text_oscuro = \"Region 8x8 mas oscura\"\n",
    "\n",
    "        textsize_claro = cv.getTextSize(text_claro, font, fontScale=fontScale, thickness=thickness)[0]\n",
    "        textsize_oscuro = cv.getTextSize(text_oscuro, font, fontScale=fontScale, thickness=thickness)[0]\n",
    "\n",
    "        textX = 10\n",
    "        textY = height - textsize_claro[1] - 10\n",
    "\n",
    "        cv.putText(image, text_claro, (textX, textY-10-textsize_claro[1]), font, fontScale, color_bright, thickness, cv.LINE_AA)\n",
    "        cv.putText(image, text_oscuro, (textX, textY), font, fontScale, color_dark, thickness, cv.LINE_AA)\n",
    "\n",
    "        cv.imshow(\"cam\", image)\n",
    "\n",
    "        if cv.waitKey(20) == 27:\n",
    "            break\n",
    "\n",
    "video.release()\n",
    "cv.destroyAllWindows()"
   ]
  }
 ],
 "metadata": {
  "kernelspec": {
   "display_name": "VC_P1",
   "language": "python",
   "name": "python3"
  },
  "language_info": {
   "codemirror_mode": {
    "name": "ipython",
    "version": 3
   },
   "file_extension": ".py",
   "mimetype": "text/x-python",
   "name": "python",
   "nbconvert_exporter": "python",
   "pygments_lexer": "ipython3",
   "version": "3.11.5"
  }
 },
 "nbformat": 4,
 "nbformat_minor": 2
}
