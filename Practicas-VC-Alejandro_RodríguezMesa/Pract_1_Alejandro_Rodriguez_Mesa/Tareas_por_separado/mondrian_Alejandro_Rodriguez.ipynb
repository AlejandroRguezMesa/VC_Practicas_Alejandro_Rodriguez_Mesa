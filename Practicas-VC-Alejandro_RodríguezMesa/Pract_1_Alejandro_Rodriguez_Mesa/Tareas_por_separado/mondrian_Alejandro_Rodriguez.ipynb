{
 "cells": [
  {
   "cell_type": "markdown",
   "metadata": {},
   "source": [
    "Alejandro Rodríguez Mesa, Visión por Computador\n"
   ]
  },
  {
   "cell_type": "markdown",
   "metadata": {},
   "source": [
    "Tarea - Creación de una imagen estilo Mondrian con y sin OpenCV"
   ]
  },
  {
   "cell_type": "markdown",
   "metadata": {},
   "source": [
    "Paquetes necesarios"
   ]
  },
  {
   "cell_type": "code",
   "execution_count": 1,
   "metadata": {},
   "outputs": [],
   "source": [
    "\n",
    "import cv2 as cv\n",
    "import numpy as np\n",
    "import matplotlib.pyplot as plt\n"
   ]
  },
  {
   "cell_type": "markdown",
   "metadata": {},
   "source": [
    "Inicializaciones"
   ]
  },
  {
   "cell_type": "code",
   "execution_count": 2,
   "metadata": {},
   "outputs": [],
   "source": [
    "#Dimensiones de la imagen a crear\n",
    "ancho = 600\n",
    "alto = 600"
   ]
  },
  {
   "cell_type": "markdown",
   "metadata": {},
   "source": [
    "Creación de imagen estilo mondrian 800x800"
   ]
  },
  {
   "cell_type": "code",
   "execution_count": null,
   "metadata": {},
   "outputs": [],
   "source": [
    "class Rectangle:\n",
    "    def __init__(self, width, height, rgb, offset = 0):\n",
    "        self.width = width\n",
    "        self.height = height\n",
    "        self.rgb = rgb\n",
    "        self.offset = offset\n",
    "\n",
    "    def apply(self, image, point):\n",
    "        image[point[1]+self.offset:point[1] + self.height-self.offset , point[0]+self.offset:point[0]+self.width-self.offset] = self.rgb\n",
    "\n",
    "    \n",
    "color_img = np.zeros((800, 800,3), dtype = np.uint8)\n",
    "background = Rectangle(800, 800, (0, 0, 0))\n",
    "background.apply(color_img, (0, 0))\n",
    "\n",
    "rectangles = [  \n",
    "    Rectangle(400, 100, (34,80,149), offset=10),\n",
    "    Rectangle(200, 100, (250,201,1), offset=10),\n",
    "    Rectangle(200, 200, (221,1,0), offset=10),\n",
    "    \n",
    "    Rectangle(100, 100, (255,255,255), offset=10),\n",
    "    Rectangle(200, 300, (255,255,255), offset=10),\n",
    "    Rectangle(200, 300, (221,1,0), offset=10),\n",
    "    \n",
    "\n",
    "    Rectangle(200, 200, (250,201,1), offset=10),\n",
    "    Rectangle(200, 200, (255,255,255), offset=10),\n",
    "    Rectangle(500, 100, (250,201,1), offset=10),\n",
    "\n",
    "    Rectangle(400, 300, (34,80,149), offset=10),\n",
    "    Rectangle(200, 300, (255,255,255), offset=10),\n",
    "    Rectangle(200, 100, (221,1,0), offset=10),\n",
    "    Rectangle(200, 300, (34,80,149), offset=10),\n",
    "    Rectangle(200, 100, (221,1,0), offset=10)\n",
    "]\n",
    "\n",
    "positions = [(0, 0),(0, 400), (0, 500), (0, 700), (0,100), (200, 100), (400, 0),(400, 200), (100, 700), (200, 400), (600, 400), (600, 700),(600, 0),(600, 300)]\n",
    "\n",
    "for x in range(0, len(positions)):\n",
    "    rectangles[x].apply(color_img, positions[x])\n",
    "\n",
    "plt.imshow(color_img)\n",
    "plt.show()"
   ]
  },
  {
   "cell_type": "markdown",
   "metadata": {},
   "source": [
    "Creación de imagen y lineas con OpenCV"
   ]
  },
  {
   "cell_type": "code",
   "execution_count": null,
   "metadata": {},
   "outputs": [],
   "source": [
    "#Crea una imagen con tres planos\n",
    "color_img = np.zeros((alto,ancho,3), dtype = np.uint8)\n",
    "\n",
    "color_img[:,:,:] = 255 \n",
    "\n",
    "\n",
    "# Lineas Horizontales\n",
    "cv.line(color_img, (1, 2), (int(ancho/2), 2), (0, 0, 0), 5)\n",
    "cv.line(color_img, (int(ancho/2), 20), (ancho, 20), (0, 0, 0), 5)\n",
    "cv.line(color_img, (100, 80), (ancho, 80), (0, 0, 0), 5)\n",
    "cv.line(color_img, (100, 120), (320, 120), (0, 0, 0), 5)\n",
    "cv.line(color_img, (480, 160), (560, 160), (0, 0, 0), 5)\n",
    "cv.line(color_img, (560, 200), (ancho, 200), (0, 0, 0), 5)\n",
    "cv.line(color_img, (1, 300), (ancho, 300), (0, 0, 0), 5)\n",
    "cv.line(color_img, (1, 440), (int(ancho/2), 440), (0, 0, 0), 5)\n",
    "cv.line(color_img, (int(ancho/2), 500), (ancho, 500), (0, 0, 0), 5)\n",
    "cv.line(color_img, (120, 560), (int(ancho/2), 560), (0, 0, 0), 5)\n",
    "cv.line(color_img, (400, 580), (ancho, 580), (0, 0, 0), 5)\n",
    "\n",
    "#Lineas Verticales\n",
    "cv.line(color_img, (100, 1), (100, 300), (0, 0, 0), 5)\n",
    "cv.line(color_img, (120, 440), (120, ancho), (0, 0, 0), 5)\n",
    "cv.line(color_img, (150, 300), (150, 440), (0, 0, 0), 5)\n",
    "cv.line(color_img, (300, 1), (300, 80), (0, 0, 0), 5)\n",
    "cv.line(color_img, (300, 300), (300, ancho), (0, 0, 0), 5)\n",
    "cv.line(color_img, (320, 80), (320, 300), (0, 0, 0), 5)\n",
    "cv.line(color_img, (400, 300), (400, ancho), (0, 0, 0), 5)\n",
    "cv.line(color_img, (480, 80), (480, 300), (0, 0, 0), 5)\n",
    "cv.line(color_img, (530, 300), (530, 500), (0, 0, 0), 5)\n",
    "cv.line(color_img, (560, 80), (560, 300), (0, 0, 0), 5)\n",
    "cv.line(color_img, (570, 1), (570, 20), (0, 0, 0), 5)\n",
    "cv.line(color_img, (580, 20), (580, 80), (0, 0, 0), 5)\n",
    "cv.line(color_img, (580, 80), (580, 200), (0, 0, 0), 5)\n",
    "cv.line(color_img, (590, 200), (590, 300), (0, 0, 0), 5)\n",
    "#Dimensiones\n",
    "print(color_img.shape)\n",
    "#Visualiza con matplotlib (sin especificar el mapa de color gris)\n",
    "plt.imshow(color_img) # Muestra las lineas creadas que posteriormente serán coloreadas\n",
    "plt.show()\n"
   ]
  },
  {
   "cell_type": "markdown",
   "metadata": {},
   "source": [
    "Coloración de los rectángulos y Muestra de la imagen con Matplotlib"
   ]
  },
  {
   "cell_type": "code",
   "execution_count": null,
   "metadata": {},
   "outputs": [],
   "source": [
    "#Se colorean los rectángulos en función de las líneas creadas y el ancho y altura de la imagen.\n",
    "#Azul\n",
    "cv.floodFill(color_img, None, (50, 50), (34,80,149))  \n",
    "cv.floodFill(color_img, None, (61, 520), (34,80,149))  \n",
    "cv.floodFill(color_img, None, (240, 385), (34,80,149))  \n",
    "cv.floodFill(color_img, None, (420, 60), (34,80,149))  \n",
    "cv.floodFill(color_img, None, (458, 550), (34,80,149))  \n",
    "cv.floodFill(color_img, None, (510, 238), (34,80,149)) \n",
    "cv.floodFill(color_img, None, (595, 238), (34,80,149)) \n",
    "\n",
    "#Rojo\n",
    "cv.floodFill(color_img, None, (200, 200), (221,1,0))  \n",
    "cv.floodFill(color_img, None, (333, 550), (221,1,0))  \n",
    "cv.floodFill(color_img, None, (400, 5), (221,1,0))\n",
    "cv.floodFill(color_img, None, (540, 380), (221,1,0))\n",
    "cv.floodFill(color_img, None, (568, 148), (221,1,0))\n",
    "\n",
    "#Amarillo\n",
    "cv.floodFill(color_img, None, (193, 41), (250,201,1))  \n",
    "cv.floodFill(color_img, None, (200, 500), (250,201,1)) \n",
    "cv.floodFill(color_img, None, (400, 200), (250,201,1)) \n",
    "cv.floodFill(color_img, None, (460, 360), (250,201,1)) \n",
    "cv.floodFill(color_img, None, (537, 590), (250,201,1))  \n",
    "cv.floodFill(color_img, None, (580, 5), (250,201,1)) \n",
    "cv.floodFill(color_img, None, (595, 150), (250,201,1)) \n",
    "\n",
    "#Visualiza con matplotlib (sin especificar el mapa de color gris)\n",
    "plt.imshow(color_img) \n",
    "plt.axis('off')  # Ocultar ejes\n",
    "plt.show()\n"
   ]
  },
  {
   "cell_type": "markdown",
   "metadata": {},
   "source": [
    "Muestra la imagen de estilo Mondrian con imshow (OpenCV) en ventana independiente"
   ]
  },
  {
   "cell_type": "code",
   "execution_count": 6,
   "metadata": {},
   "outputs": [],
   "source": [
    "#Muestra la imagen del tablero con las utilidades de OpenCV en una ventana independiente\n",
    "color_img_bgr = cv.cvtColor(color_img, cv.COLOR_RGB2BGR) #Convierte a BGR \n",
    "cv.imshow('Mondrian', color_img_bgr)\n",
    "\n",
    "cv.waitKey(-1) # Se detiene hasta pulsar tecla (>0 milisegundos)\n",
    "cv.destroyAllWindows() # Destruye todas las ventanas"
   ]
  }
 ],
 "metadata": {
  "kernelspec": {
   "display_name": "VC_P1",
   "language": "python",
   "name": "python3"
  },
  "language_info": {
   "codemirror_mode": {
    "name": "ipython",
    "version": 3
   },
   "file_extension": ".py",
   "mimetype": "text/x-python",
   "name": "python",
   "nbconvert_exporter": "python",
   "pygments_lexer": "ipython3",
   "version": "3.11.5"
  }
 },
 "nbformat": 4,
 "nbformat_minor": 2
}
